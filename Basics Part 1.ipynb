{
 "cells": [
  {
   "cell_type": "markdown",
   "id": "2e5eb408",
   "metadata": {},
   "source": [
    "<a href='https://docs.python.org/3/'> <img src='https://www.python.org/static/img/python-logo.png'><img> </a>\n",
    "\n",
    "# Introduction to programming and Python"
   ]
  },
  {
   "cell_type": "markdown",
   "id": "3bdf52e3",
   "metadata": {},
   "source": [
    "- Python is an excellent programming language that is both easy to learn and incredibly powerful.\n",
    "- Python can help you organise and deal with data more efficiently thanks to its efficient high-level data structures and a simple but effective approach to object-oriented programming. \n",
    "- Its elegant syntax and dynamic typing make it an excellent language for scripting and rapid application creation across a wide range of domains and platforms.\n",
    "- Unlike some other programming languages, Python creates programmes using objects in a neat and straightforward manner, making it simple to write and comprehend.\n",
    "- Furthermore, Python does not require code to be compiled before running, making it ideal for rapidly developing small programmes and scripts. \n",
    "- Whether you want to make a game, construct a website, or analyse data, Python is an excellent language that can be used for a variety of tasks.\n"
   ]
  },
  {
   "cell_type": "markdown",
   "id": "b36f6575",
   "metadata": {},
   "source": [
    "## Understanding what programming is\n",
    "\n",
    "The process of creating instructions that a computer can comprehend and execute is known as programming. It entails writing code in a programming language to instruct the machine on what to do. Simple calculators to complex video games and software apps are examples of programmes.\n",
    "\n",
    "When you write a program, you basically give the computer a set of instructions to follow in order to complete a specific job. These directions are written in a programming language that is intended for both humans and computers to understand.\n",
    "\n",
    "\n",
    "A programme is a set of steps or procedures that a computer takes to complete a job. These stages may include mathematical calculations, data manipulation, and interaction with other programmes or hardware components.\n",
    "\n",
    "\n"
   ]
  },
  {
   "cell_type": "markdown",
   "id": "9d578d01",
   "metadata": {},
   "source": [
    "## Why Python is a good language to learn\n",
    "\n",
    "Python is a popular programming language that is widely recognized as a good language to learn for many reasons:\n",
    "\n",
    "Easy to learn: Python has a clear and concise syntax, which makes it easy to read and write code. This makes it an excellent language for beginners who are just starting to learn programming.\n",
    "\n",
    "Versatile: Python is used in a wide range of applications, from data analysis and machine learning to web development and game development. It can be used for almost any type of project you can think of.\n",
    "\n",
    "Large community: Python has a large and active community of developers who create libraries, tools, and resources that make it easier to learn and use Python. This community provides support, resources, and guidance to help you improve your skills and build great projects.\n",
    "\n",
    "High demand: Python is widely used in the industry, and there is a high demand for Python developers. Learning Python can open up career opportunities in a variety of fields, including data science, web development, and software engineering.\n",
    "\n",
    "Great for prototyping: Python is often used for prototyping and testing out ideas quickly. Its concise syntax and vast libraries make it easy to develop and test code quickly, making it an excellent choice for startups or small projects.\n",
    "\n",
    "Overall, Python is a great language to learn for beginners and experienced programmers alike. Its versatility, ease of use, and large community make it an excellent choice for anyone looking to learn programming."
   ]
  },
  {
   "cell_type": "markdown",
   "id": "b5ddee6b",
   "metadata": {},
   "source": [
    "## The history of Python\n",
    "\n",
    "- Python was created in the late 1980s by Guido van Rossum, a Dutch programmer.\n",
    "- The first version of Python (version 0.9.0) was released in February 1991.\n",
    "- Python 1.0 was released in January 1994, with support for functional programming tools like lambda, map, filter, and reduce.\n",
    "- Python 2.0 was released in October 2000, with major improvements to the language, including support for list comprehensions, a garbage collector, and a cycle-detecting collector.\n",
    "- Python 3.0 was released in December 2008, with a focus on improving the language's design and removing inconsistencies and redundancies.\n",
    "- Since Python 3.0, there have been several major releases, including Python 3.1, 3.2, 3.3, 3.4, 3.5, 3.6, 3.7, 3.8, 3.9, and 3.10, each with new features and improvements to the language.\n",
    "- Python has become one of the most popular programming languages in the world, used by developers in a wide range of fields, from web development to data science and machine learning."
   ]
  },
  {
   "cell_type": "markdown",
   "id": "099c2a92",
   "metadata": {},
   "source": [
    "#### Revise the discussion "
   ]
  },
  {
   "cell_type": "markdown",
   "id": "5639be2d",
   "metadata": {},
   "source": [
    "Programming is the process of writing instructions for a computer to follow. This can be done in a variety of programming languages, such as Python, Java, or C++.\n",
    "\n",
    "Some programs are made to do one specific thing, like playing games or taking pictures. Other programs are made to do lots of different things, like making a website or a calculation program.\n",
    "\n",
    "Video games, apps, websites, and robots can all be created using programming. This is a way to use your imagination and solve problems in a creative and efficient way. It takes attention to detail, logical thinking, and a willingness to learn and experiment.\n",
    "\n",
    "To create a program, you need to first understand the problem you are trying to solve and design a solution. This involves breaking down the problem into smaller parts and determining the steps needed to solve each part.\n",
    "\n",
    "To make this recipe, you need to write some code that tells the computer what to do. This code will tell the computer how to cook the food, and what ingredients to use.\n",
    "\n",
    "To make sure the code works as intended, you need to test it to see if there are any errors or bugs. You may also need to make changes to the code to get it to meet your specific needs.\n",
    "\n",
    "Programming is a skill that can be used to create solutions and make things happen. It can be rewarding and challenging, and it can help you do things that are new and different."
   ]
  },
  {
   "cell_type": "markdown",
   "id": "b5c9e67c",
   "metadata": {},
   "source": [
    "## Python Keywords"
   ]
  },
  {
   "cell_type": "markdown",
   "id": "c10ed1a9",
   "metadata": {},
   "source": [
    "Keywords are the reserved words in python\n",
    "\n",
    "We can't use a keyword as variable name, function name or any other identifier\n",
    "\n",
    "Keywords are case sentive"
   ]
  },
  {
   "cell_type": "markdown",
   "id": "6e15c49f",
   "metadata": {},
   "source": [
    "<b>Keywords</b> in Python are reserved words that have a specific meaning and purpose within the language. These words cannot be used as variable names, function names, or any other identifier within a Python program. Here are some of the keywords in Python:\n",
    "\n",
    "> **and:** Used to combine two conditions and return True if both conditions are true.\n",
    "\n",
    "> **or:** Used to combine two conditions and return True if at least one condition is true.\n",
    "\n",
    "> **not:** Used to negate a condition, returning True if the condition is false, and False if the condition is true.\n",
    "\n",
    "> **if:** Used to begin a conditional statement that executes code only if a condition is true.\n",
    "\n",
    "> **else:** Used in conjunction with if to execute code if the condition in the if statement is false.\n",
    "\n",
    "> **elif:** Short for \"else if,\" this keyword is used in conjunction with if to test additional conditions if the previous if statements are false.\n",
    "\n",
    "> **for:** Used to create a loop that iterates over a sequence of items.\n",
    "\n",
    "> **while:** Used to create a loop that continues to execute as long as a condition is true.\n",
    "\n",
    "> **in:** Used to check if an item is in a sequence (such as a list or tuple).\n",
    "\n",
    "> **try:** Used to begin a block of code that may cause an error and provide an alternative course of action if an error occurs.\n",
    "\n",
    "> **except:** Used in conjunction with try to specify the type of error that is being handled.\n",
    "\n",
    "> **finally:** Used in conjunction with try and except to specify a block of code that will always execute, regardless of whether an error occurs.\n",
    "\n",
    "These are just a few of the keywords in Python. By understanding the meaning and purpose of each keyword, you can write effective and efficient Python code."
   ]
  },
  {
   "cell_type": "code",
   "execution_count": 1,
   "id": "6d835fb4",
   "metadata": {},
   "outputs": [
    {
     "name": "stdout",
     "output_type": "stream",
     "text": [
      "Total number of keywords  36\n",
      "\n",
      " Keywords \n",
      "\n",
      "['False', 'None', 'True', '__peg_parser__', 'and', 'as', 'assert', 'async', 'await', 'break', 'class', 'continue', 'def', 'del', 'elif', 'else', 'except', 'finally', 'for', 'from', 'global', 'if', 'import', 'in', 'is', 'lambda', 'nonlocal', 'not', 'or', 'pass', 'raise', 'return', 'try', 'while', 'with', 'yield']\n"
     ]
    }
   ],
   "source": [
    "#Get all keywords in python 3.6\n",
    "\n",
    "import keyword\n",
    "\n",
    "\n",
    "print(\"Total number of keywords \", len(keyword.kwlist))\n",
    "print(\"\\n Keywords \\n\")\n",
    "print(keyword.kwlist,sep='\\n')"
   ]
  },
  {
   "cell_type": "markdown",
   "id": "4784e304",
   "metadata": {},
   "source": [
    "## Identifiers\n",
    "\n",
    "Identifier is the name given to entities like class, functions, variables etc. in Python. It helps differentiating one entity from another.\n",
    "\n",
    "Rules for Writing Identifiers:\n",
    "\n",
    "1. Identifiers can be a combination of letters in lowercase (a to z) or uppercase (A to Z) or digits (0 to 9) or an underscore (_).\n",
    "\n",
    "2. An identifier cannot start with a digit. 1variable is invalid, but variable1 is perfectly fine.\n",
    "\n",
    "3. Keywords cannot be used as identifiers."
   ]
  },
  {
   "cell_type": "markdown",
   "id": "92cf3d8f",
   "metadata": {},
   "source": [
    "Identifiers are names given to variables, functions, and other objects in Python. An identifier can be composed of letters, numbers, and underscores, but it must follow some rules:\n",
    "\n",
    "- An identifier must start with a letter or underscore (_), but not a number.\n",
    "\n",
    "- An identifier can contain letters, numbers, and underscores.\n",
    "\n",
    "- An identifier can be of any length.\n",
    "\n",
    "- Identifiers are case sensitive, meaning that \"myVar\" and \"myvar\" are different identifiers.\n",
    "\n",
    "Here are some other things to keep in mind when using identifiers in Python:\n",
    "\n",
    "- Avoid using reserved words as identifiers, such as \"if\", \"else\", \"for\", and \"while\".\n",
    "- Use descriptive and meaningful names for your identifiers, to make your code more readable.\n",
    "- Follow a consistent naming convention for your identifiers, such as using camelCase or snake_case.\n",
    "- Avoid using single-character identifiers, except in cases where they have a well-known meaning, such as \"i\" for an index variable in a loop.\n",
    "- Use only ASCII characters for identifiers, as non-ASCII characters can cause compatibility issues when sharing code across platforms.\n",
    "\n",
    "Overall, identifiers are an important part of programming in Python, as they help us name and refer to the different objects and variables we use in our code. By following the rules for identifiers and using meaningful names, we can write more readable and maintainable code."
   ]
  },
  {
   "cell_type": "code",
   "execution_count": 2,
   "id": "d0bd4be5",
   "metadata": {},
   "outputs": [
    {
     "ename": "SyntaxError",
     "evalue": "invalid syntax (1908464387.py, line 1)",
     "output_type": "error",
     "traceback": [
      "\u001b[1;36m  Input \u001b[1;32mIn [2]\u001b[1;36m\u001b[0m\n\u001b[1;33m    global = 1\u001b[0m\n\u001b[1;37m           ^\u001b[0m\n\u001b[1;31mSyntaxError\u001b[0m\u001b[1;31m:\u001b[0m invalid syntax\n"
     ]
    }
   ],
   "source": [
    "global = 1"
   ]
  },
  {
   "cell_type": "markdown",
   "id": "806be7cf",
   "metadata": {},
   "source": [
    " We cannot use special symbols like !, @, #, $, % etc. in our identifier."
   ]
  },
  {
   "cell_type": "code",
   "execution_count": 3,
   "id": "2638d3cd",
   "metadata": {},
   "outputs": [
    {
     "ename": "SyntaxError",
     "evalue": "invalid syntax (2849195188.py, line 1)",
     "output_type": "error",
     "traceback": [
      "\u001b[1;36m  Input \u001b[1;32mIn [3]\u001b[1;36m\u001b[0m\n\u001b[1;33m    a@ = 10             #can't use special symbols as an identifier\u001b[0m\n\u001b[1;37m       ^\u001b[0m\n\u001b[1;31mSyntaxError\u001b[0m\u001b[1;31m:\u001b[0m invalid syntax\n"
     ]
    }
   ],
   "source": [
    "a@ = 10             #can't use special symbols as an identifier"
   ]
  },
  {
   "cell_type": "markdown",
   "id": "3a2eaafe",
   "metadata": {},
   "source": [
    "## Python Comments"
   ]
  },
  {
   "cell_type": "markdown",
   "id": "6eba0ac8",
   "metadata": {},
   "source": [
    "Comments are lines that exist in computer programs that are ignored by compilers and interpreters. \n",
    "\n",
    "Including comments in programs makes code more readable for humans as it provides some information or explanation about what each part of a program is doing.\n",
    "\n",
    "In general, it is a good idea to write comments while you are writing or updating a program as it is easy to forget your thought process later on, and comments written later may be less useful in the long term. "
   ]
  },
  {
   "cell_type": "markdown",
   "id": "ff77505b",
   "metadata": {},
   "source": [
    "In Python, comments are used to add explanatory notes to our code, without affecting how the code runs. They can help us remember why we wrote certain code, or explain how the code works to other programmers who might read our code.\n",
    "\n",
    "Here are some things to keep in mind about comments in Python:\n",
    "\n",
    "- A comment in Python starts with the \"#\" symbol, which tells the Python interpreter to ignore the rest of the line.\n",
    "- Comments can be added to the end of a line of code, or on a separate line.\n",
    "- Comments can be used to explain what a block of code does, or to temporarily disable a piece of code that we don't want to run.\n",
    "- Comments should be used sparingly and only when necessary, as too many comments can make our code harder to read and understand.\n",
    "- Use clear and concise language for your comments, and avoid using comments to state the obvious.\n",
    "- Comments can also be used to document our code, using special comment syntax like docstrings, which can be used to generate documentation for our code automatically.\n",
    "\n",
    "Overall, comments can be a valuable tool for helping us write more readable and maintainable code in Python. By using comments strategically and following best practices, we can make our code easier to understand and use for ourselves and other programmers."
   ]
  },
  {
   "cell_type": "markdown",
   "id": "efeb73ea",
   "metadata": {},
   "source": [
    "In Python, we use the hash (#) symbol to start writing a comment."
   ]
  },
  {
   "cell_type": "code",
   "execution_count": 4,
   "id": "a740978c",
   "metadata": {},
   "outputs": [
    {
     "name": "stdout",
     "output_type": "stream",
     "text": [
      "Hello, world\n"
     ]
    }
   ],
   "source": [
    "#Print Hello, world to console\n",
    "print(\"Hello, world\")"
   ]
  },
  {
   "cell_type": "markdown",
   "id": "958d62a4",
   "metadata": {},
   "source": [
    "## Multi Line Comments"
   ]
  },
  {
   "cell_type": "markdown",
   "id": "55e7beb7",
   "metadata": {},
   "source": [
    "If we have comments that extend multiple lines, one way of doing it is to use hash (#) in the beginning of each line."
   ]
  },
  {
   "cell_type": "code",
   "execution_count": 5,
   "id": "e8b6bddd",
   "metadata": {},
   "outputs": [],
   "source": [
    "#This is a long comment\n",
    "#and it extends \n",
    "#Multiple lines"
   ]
  },
  {
   "cell_type": "markdown",
   "id": "3745aca0",
   "metadata": {},
   "source": [
    "Another way of doing this is to use triple quotes, either ''' or \"\"\"."
   ]
  },
  {
   "cell_type": "code",
   "execution_count": 6,
   "id": "44bb1edb",
   "metadata": {},
   "outputs": [
    {
     "data": {
      "text/plain": [
       "'This is also a\\nperfect example of\\nmulti-line comments'"
      ]
     },
     "execution_count": 6,
     "metadata": {},
     "output_type": "execute_result"
    }
   ],
   "source": [
    "\"\"\"This is also a\n",
    "perfect example of\n",
    "multi-line comments\"\"\""
   ]
  },
  {
   "cell_type": "markdown",
   "id": "8144a152",
   "metadata": {},
   "source": [
    "## DocString in python"
   ]
  },
  {
   "cell_type": "markdown",
   "id": "2a6fbd6b",
   "metadata": {},
   "source": [
    "Docstring is short for documentation string.\n",
    "\n",
    "It is a string that occurs as the first statement in a module, function, class, or method definition."
   ]
  },
  {
   "cell_type": "code",
   "execution_count": 7,
   "id": "80887bba",
   "metadata": {},
   "outputs": [
    {
     "name": "stdout",
     "output_type": "stream",
     "text": [
      "20\n"
     ]
    }
   ],
   "source": [
    "def double(num):\n",
    "    \"\"\"\n",
    "    function to double the number\n",
    "    \"\"\"\n",
    "    return 2 * num\n",
    "\n",
    "print (double(10))"
   ]
  },
  {
   "cell_type": "code",
   "execution_count": 8,
   "id": "17316429",
   "metadata": {},
   "outputs": [
    {
     "name": "stdout",
     "output_type": "stream",
     "text": [
      "\n",
      "    function to double the number\n",
      "    \n"
     ]
    }
   ],
   "source": [
    "print( double.__doc__) #Docstring is available to us as the attribute __doc__ of the function"
   ]
  },
  {
   "cell_type": "markdown",
   "id": "613042e1",
   "metadata": {},
   "source": [
    "## Python Indentation"
   ]
  },
  {
   "cell_type": "markdown",
   "id": "b594b598",
   "metadata": {},
   "source": [
    "1. Most of the programming languages like C, C++, Java use braces { } to define a block of code. Python uses indentation.\n",
    "\n",
    "2. A code block (body of a function, loop etc.) starts with indentation and ends with the first unindented line. The amount of indentation is up to you, but it must be consistent throughout that block.\n",
    "\n",
    "3. Generally four whitespaces are used for indentation and is preferred over tabs."
   ]
  },
  {
   "cell_type": "markdown",
   "id": "9d899f8d",
   "metadata": {},
   "source": [
    "In Python, indentation refers to the spaces or tabs that are used at the beginning of a line of code to indicate its level of indentation within a block of code. Indentation is used to group together lines of code that should be executed together, such as within a loop or a function.\n",
    "\n",
    "Here are some things to keep in mind when using indentation in Python:\n",
    "\n",
    "- Indentation is not optional in Python; it is required to indicate the structure of your code.\n",
    "- Use either spaces or tabs for indentation, but be consistent throughout your code.\n",
    "- Use four spaces for each level of indentation. This is the recommended convention in the Python community.\n",
    "- Avoid mixing tabs and spaces for indentation, as this can lead to syntax errors in your code.\n",
    "- Make sure to indent lines of code that are part of a block, such as within a loop or function. The indentation should be consistent for all lines in the block.\n",
    "\n",
    "Overall, indentation is a fundamental part of Python syntax and is used to indicate the structure and organization of your code. By following the guidelines for indentation, you can write code that is more readable and easier to understand."
   ]
  },
  {
   "cell_type": "code",
   "execution_count": 9,
   "id": "d7679cf7",
   "metadata": {},
   "outputs": [
    {
     "name": "stdout",
     "output_type": "stream",
     "text": [
      "0\n",
      "1\n",
      "2\n",
      "3\n",
      "4\n",
      "5\n",
      "6\n",
      "7\n",
      "8\n",
      "9\n"
     ]
    }
   ],
   "source": [
    "for i in range(10):\n",
    "    print( i)"
   ]
  },
  {
   "cell_type": "markdown",
   "id": "eb47ea61",
   "metadata": {},
   "source": [
    "Indentation can be ignored in line continuation. But it's a good idea to always indent. It makes the code more readable."
   ]
  },
  {
   "cell_type": "code",
   "execution_count": 10,
   "id": "09a39fb9",
   "metadata": {},
   "outputs": [
    {
     "name": "stdout",
     "output_type": "stream",
     "text": [
      "Machine Learning\n"
     ]
    }
   ],
   "source": [
    "if True:\n",
    "    print (\"Machine Learning\")\n",
    "    c = \"AAIC\""
   ]
  },
  {
   "cell_type": "code",
   "execution_count": 11,
   "id": "a9d02161",
   "metadata": {},
   "outputs": [
    {
     "name": "stdout",
     "output_type": "stream",
     "text": [
      "Machine Learning\n"
     ]
    }
   ],
   "source": [
    "if True: print (\"Machine Learning\"); c = \"AAIC\""
   ]
  },
  {
   "cell_type": "markdown",
   "id": "0b6393db",
   "metadata": {},
   "source": [
    "## Python Statement"
   ]
  },
  {
   "cell_type": "markdown",
   "id": "fa760329",
   "metadata": {},
   "source": [
    "Instructions that a Python interpreter can execute are called statements.\n",
    "\n",
    "Examples:"
   ]
  },
  {
   "cell_type": "code",
   "execution_count": 12,
   "id": "d0d00e84",
   "metadata": {},
   "outputs": [],
   "source": [
    " a = 1  #single statement"
   ]
  },
  {
   "cell_type": "markdown",
   "id": "c69f2121",
   "metadata": {},
   "source": [
    "## Multi-Line Statement\n",
    "\n",
    "In Python, end of a statement is marked by a newline character. But we can make a statement extend over multiple lines with the line continuation character (\\)."
   ]
  },
  {
   "cell_type": "code",
   "execution_count": 13,
   "id": "31f94e54",
   "metadata": {},
   "outputs": [],
   "source": [
    "a = 1 + 2 + 3 + \\\n",
    "    4 + 5 + 6 + \\\n",
    "    7 + 8"
   ]
  },
  {
   "cell_type": "code",
   "execution_count": 14,
   "id": "e80e78ce",
   "metadata": {},
   "outputs": [
    {
     "name": "stdout",
     "output_type": "stream",
     "text": [
      "36\n"
     ]
    }
   ],
   "source": [
    "print (a)"
   ]
  },
  {
   "cell_type": "code",
   "execution_count": 15,
   "id": "25f53d20",
   "metadata": {},
   "outputs": [
    {
     "name": "stdout",
     "output_type": "stream",
     "text": [
      "36\n"
     ]
    }
   ],
   "source": [
    "#another way is\n",
    "a = (1 + 2 + 3 +\n",
    "    4 + 5 + 6 + \n",
    "    7 + 8)\n",
    "print (a)"
   ]
  },
  {
   "cell_type": "code",
   "execution_count": 16,
   "id": "8027fb42",
   "metadata": {},
   "outputs": [],
   "source": [
    "a = 10; b = 20; c = 30   #put multiple statements in a single line using ;"
   ]
  },
  {
   "cell_type": "markdown",
   "id": "99d5de96",
   "metadata": {},
   "source": [
    "## Variables"
   ]
  },
  {
   "cell_type": "markdown",
   "id": "3d284b46",
   "metadata": {},
   "source": [
    "A variable is a location in memory used to store some data (value).\n",
    "\n",
    "They are given unique names to differentiate between different memory locations. The rules for writing a variable name is same as the rules for writing identifiers in Python.\n",
    "\n",
    "We don't need to declare a variable before using it. In Python, we simply assign a value to a variable and it will exist. We don't even have to declare the type of the variable. This is handled internally according to the type of value we assign to the variable."
   ]
  },
  {
   "cell_type": "markdown",
   "id": "595cd003",
   "metadata": {},
   "source": [
    "## Variable Assignments\n"
   ]
  },
  {
   "cell_type": "code",
   "execution_count": 17,
   "id": "8cd301f8",
   "metadata": {},
   "outputs": [],
   "source": [
    "#We use the assignment operator (=) to assign values to a variable\n",
    "\n",
    "a = 10\n",
    "b = 5.5\n",
    "c = \"ML\""
   ]
  },
  {
   "cell_type": "markdown",
   "id": "a8eb1da4",
   "metadata": {},
   "source": [
    "## Multiple Assignments"
   ]
  },
  {
   "cell_type": "code",
   "execution_count": 18,
   "id": "0bc40141",
   "metadata": {},
   "outputs": [],
   "source": [
    "a, b, c = 10, 5.5, \"ML\""
   ]
  },
  {
   "cell_type": "code",
   "execution_count": 19,
   "id": "fa748872",
   "metadata": {},
   "outputs": [],
   "source": [
    "a = b = c = \"AI\" #assign the same value to multiple variables at once"
   ]
  },
  {
   "cell_type": "markdown",
   "id": "6c60b8d9",
   "metadata": {},
   "source": [
    "## Storage Locations"
   ]
  },
  {
   "cell_type": "code",
   "execution_count": 20,
   "id": "96c90a2d",
   "metadata": {},
   "outputs": [
    {
     "name": "stdout",
     "output_type": "stream",
     "text": [
      "2702955145584\n"
     ]
    }
   ],
   "source": [
    "x = 3\n",
    "\n",
    "print(id(x))               #print address of variable x"
   ]
  },
  {
   "cell_type": "code",
   "execution_count": 21,
   "id": "0edc0326",
   "metadata": {},
   "outputs": [
    {
     "name": "stdout",
     "output_type": "stream",
     "text": [
      "2702955145584\n"
     ]
    }
   ],
   "source": [
    "y = 3\n",
    "\n",
    "print(id(y))               #print address of variable y"
   ]
  },
  {
   "cell_type": "markdown",
   "id": "947c35d4",
   "metadata": {},
   "source": [
    "Observation:\n",
    "\n",
    "x and y points to same memory location\n",
    "    "
   ]
  },
  {
   "cell_type": "code",
   "execution_count": 22,
   "id": "a521cbd9",
   "metadata": {},
   "outputs": [
    {
     "name": "stdout",
     "output_type": "stream",
     "text": [
      "2702955145552\n"
     ]
    }
   ],
   "source": [
    "y = 2\n",
    "print(id(y))               #print address of variable y"
   ]
  },
  {
   "cell_type": "code",
   "execution_count": 23,
   "id": "0db0f948",
   "metadata": {},
   "outputs": [
    {
     "name": "stdout",
     "output_type": "stream",
     "text": [
      "2702955145584\n"
     ]
    }
   ],
   "source": [
    "print(id(x))"
   ]
  },
  {
   "cell_type": "code",
   "execution_count": 24,
   "id": "059859d6",
   "metadata": {},
   "outputs": [],
   "source": [
    "y=3"
   ]
  },
  {
   "cell_type": "code",
   "execution_count": 25,
   "id": "152058ef",
   "metadata": {},
   "outputs": [
    {
     "name": "stdout",
     "output_type": "stream",
     "text": [
      "2702955145584\n"
     ]
    }
   ],
   "source": [
    "print(id(y))    "
   ]
  },
  {
   "cell_type": "markdown",
   "id": "190e454b",
   "metadata": {},
   "source": [
    "## Data Types "
   ]
  },
  {
   "cell_type": "markdown",
   "id": "4b48a8e1",
   "metadata": {},
   "source": [
    "Every value in Python has a datatype. Since everything is an object in Python programming, data types are actually classes and variables are instance (object) of these classes."
   ]
  },
  {
   "cell_type": "markdown",
   "id": "306d48ab",
   "metadata": {},
   "source": [
    "## Numbers"
   ]
  },
  {
   "cell_type": "markdown",
   "id": "d95d0bc5",
   "metadata": {},
   "source": [
    "Integers, floating point numbers and complex numbers falls under Python numbers category. They are defined as int, float and complex class in Python.\n",
    "\n",
    "We can use the type() function to know which class a variable or a value belongs to and the isinstance() function to check if an object belongs to a particular class."
   ]
  },
  {
   "cell_type": "code",
   "execution_count": 26,
   "id": "922b014a",
   "metadata": {},
   "outputs": [
    {
     "name": "stdout",
     "output_type": "stream",
     "text": [
      "5  is of type <class 'int'>\n"
     ]
    }
   ],
   "source": [
    "a = 5                               #data type is implicitly set to integer\n",
    "print(a, \" is of type\", type(a))"
   ]
  },
  {
   "cell_type": "code",
   "execution_count": 27,
   "id": "3a6c4e94",
   "metadata": {},
   "outputs": [
    {
     "name": "stdout",
     "output_type": "stream",
     "text": [
      "2.5  is of type <class 'float'>\n"
     ]
    }
   ],
   "source": [
    "a = 2.5                            #data type is changed to float\n",
    "print(a, \" is of type\", type(a))"
   ]
  },
  {
   "cell_type": "code",
   "execution_count": 28,
   "id": "28a160b7",
   "metadata": {},
   "outputs": [
    {
     "name": "stdout",
     "output_type": "stream",
     "text": [
      "(1+2j)  is complex number?\n",
      "True\n"
     ]
    }
   ],
   "source": [
    "a = 1 + 2j                          #data type is changed to complex number\n",
    "print(a, \" is complex number?\") \n",
    "print(isinstance(1+2j, complex))"
   ]
  },
  {
   "cell_type": "markdown",
   "id": "0470d64f",
   "metadata": {},
   "source": [
    "## Boolean"
   ]
  },
  {
   "cell_type": "markdown",
   "id": "d8a6d23b",
   "metadata": {},
   "source": [
    " Boolean represents the truth values False and True"
   ]
  },
  {
   "cell_type": "code",
   "execution_count": 29,
   "id": "bffd1454",
   "metadata": {},
   "outputs": [
    {
     "name": "stdout",
     "output_type": "stream",
     "text": [
      "<class 'bool'>\n"
     ]
    }
   ],
   "source": [
    "a = True                          #a is a boolean type\n",
    "print(type(a))"
   ]
  },
  {
   "cell_type": "markdown",
   "id": "34898fd4",
   "metadata": {},
   "source": [
    "## Python Strings"
   ]
  },
  {
   "cell_type": "markdown",
   "id": "88259b61",
   "metadata": {},
   "source": [
    "String is sequence of Unicode characters. \n",
    "\n",
    "We can use single quotes or double quotes to represent strings. \n",
    "\n",
    "Multi-line strings can be denoted using triple quotes, ''' or \"\"\"."
   ]
  },
  {
   "cell_type": "markdown",
   "id": "f456727f",
   "metadata": {},
   "source": [
    "A string in Python consists of a series or sequence of characters - letters, numbers, and special characters. \n",
    "\n",
    "Strings can be indexed - often synonymously called subscripted as well. \n",
    "\n",
    "Similar to C, the first character of a string has the index 0."
   ]
  },
  {
   "cell_type": "code",
   "execution_count": 30,
   "id": "f7a0cfcb",
   "metadata": {},
   "outputs": [
    {
     "name": "stdout",
     "output_type": "stream",
     "text": [
      "This is Python course\n"
     ]
    }
   ],
   "source": [
    "s = \"This is Python course\"\n",
    "print(s)"
   ]
  },
  {
   "cell_type": "code",
   "execution_count": 31,
   "id": "e0f8d42f",
   "metadata": {},
   "outputs": [
    {
     "name": "stdout",
     "output_type": "stream",
     "text": [
      "T\n"
     ]
    }
   ],
   "source": [
    "print(s[0])\n",
    "#last char s[len(s)-1] or s[-1]"
   ]
  },
  {
   "cell_type": "code",
   "execution_count": 32,
   "id": "2a499ced",
   "metadata": {},
   "outputs": [
    {
     "data": {
      "text/plain": [
       "'is Python course'"
      ]
     },
     "execution_count": 32,
     "metadata": {},
     "output_type": "execute_result"
    }
   ],
   "source": [
    "#slicing\n",
    "s[5:]"
   ]
  },
  {
   "cell_type": "markdown",
   "id": "32a3a5a6",
   "metadata": {},
   "source": [
    "## Python List"
   ]
  },
  {
   "cell_type": "markdown",
   "id": "fa8a6046",
   "metadata": {},
   "source": [
    "List is an ordered sequence of items. It is one of the most used datatype in Python and is very flexible. All the items in a list do not need to be of the same type.\n",
    "\n",
    "Declaring a list is , Items separated by commas are enclosed within brackets [ ]."
   ]
  },
  {
   "cell_type": "code",
   "execution_count": 33,
   "id": "1b7f676b",
   "metadata": {},
   "outputs": [
    {
     "name": "stdout",
     "output_type": "stream",
     "text": [
      "20.5\n"
     ]
    }
   ],
   "source": [
    "a = [10, 20.5, \"Hello\"]\n",
    "print(a[1])               #print 1st index element"
   ]
  },
  {
   "cell_type": "markdown",
   "id": "31e93993",
   "metadata": {},
   "source": [
    "Lists are mutable, meaning, value of elements of a list can be altered."
   ]
  },
  {
   "cell_type": "code",
   "execution_count": 34,
   "id": "81b9b448",
   "metadata": {},
   "outputs": [
    {
     "name": "stdout",
     "output_type": "stream",
     "text": [
      "[10, 30.7, 'Hello']\n"
     ]
    }
   ],
   "source": [
    "a[1] = 30.7\n",
    "print(a)"
   ]
  },
  {
   "cell_type": "markdown",
   "id": "6ea7df3e",
   "metadata": {},
   "source": [
    "## Python Tuple"
   ]
  },
  {
   "cell_type": "markdown",
   "id": "6c6a3daa",
   "metadata": {},
   "source": [
    "Tuple is an ordered sequence of items same as list.The only difference is that tuples are immutable. Tuples once created cannot be modified."
   ]
  },
  {
   "cell_type": "code",
   "execution_count": 35,
   "id": "4417e968",
   "metadata": {},
   "outputs": [],
   "source": [
    "t = (1, 1.5, \"ML\")"
   ]
  },
  {
   "cell_type": "code",
   "execution_count": 36,
   "id": "5254c8c0",
   "metadata": {},
   "outputs": [
    {
     "name": "stdout",
     "output_type": "stream",
     "text": [
      "1.5\n"
     ]
    }
   ],
   "source": [
    "print(t[1]) #extract particular element"
   ]
  },
  {
   "cell_type": "code",
   "execution_count": 37,
   "id": "3197a70f",
   "metadata": {},
   "outputs": [
    {
     "ename": "TypeError",
     "evalue": "'tuple' object does not support item assignment",
     "output_type": "error",
     "traceback": [
      "\u001b[1;31m---------------------------------------------------------------------------\u001b[0m",
      "\u001b[1;31mTypeError\u001b[0m                                 Traceback (most recent call last)",
      "Input \u001b[1;32mIn [37]\u001b[0m, in \u001b[0;36m<cell line: 1>\u001b[1;34m()\u001b[0m\n\u001b[1;32m----> 1\u001b[0m t[\u001b[38;5;241m1\u001b[39m] \u001b[38;5;241m=\u001b[39m \u001b[38;5;241m1.25\u001b[39m\n",
      "\u001b[1;31mTypeError\u001b[0m: 'tuple' object does not support item assignment"
     ]
    }
   ],
   "source": [
    "t[1] = 1.25"
   ]
  },
  {
   "cell_type": "markdown",
   "id": "ed2a6030",
   "metadata": {},
   "source": [
    "## Python Set"
   ]
  },
  {
   "cell_type": "markdown",
   "id": "10a9574f",
   "metadata": {},
   "source": [
    "Set is an unordered collection of unique items. Set is defined by values separated by comma inside braces { }. Items in a set are not ordered."
   ]
  },
  {
   "cell_type": "code",
   "execution_count": null,
   "id": "aefe190a",
   "metadata": {},
   "outputs": [],
   "source": [
    "a = {10, 30, 20, 40, 5}\n",
    "print(a)"
   ]
  },
  {
   "cell_type": "code",
   "execution_count": null,
   "id": "cfd21ed4",
   "metadata": {},
   "outputs": [],
   "source": [
    "print(type(a))             #print type of a"
   ]
  },
  {
   "cell_type": "markdown",
   "id": "8d078748",
   "metadata": {},
   "source": [
    "We can perform set operations like union, intersection on two sets. Set have unique values."
   ]
  },
  {
   "cell_type": "code",
   "execution_count": null,
   "id": "1f367e52",
   "metadata": {},
   "outputs": [],
   "source": [
    "s = {10, 20, 20, 30, 30, 30}\n",
    "print(s)                    #automatically set won't consider duplicate elements"
   ]
  },
  {
   "cell_type": "code",
   "execution_count": null,
   "id": "665d3531",
   "metadata": {},
   "outputs": [],
   "source": [
    "print(s[1]) #we can't print particular element in set because \n",
    "            #it's unorder collections of items"
   ]
  },
  {
   "cell_type": "markdown",
   "id": "37fdd61a",
   "metadata": {},
   "source": [
    "## Python Dictionary"
   ]
  },
  {
   "cell_type": "markdown",
   "id": "cd6c302c",
   "metadata": {},
   "source": [
    "Dictionary is an unordered collection of key-value pairs.\n",
    "\n",
    "In Python, dictionaries are defined within braces {} with each item being a pair in the form key:value. Key and value can be of any type."
   ]
  },
  {
   "cell_type": "code",
   "execution_count": null,
   "id": "c2aaaea4",
   "metadata": {},
   "outputs": [],
   "source": [
    "d = {'a': \"apple\", 'b': \"bat\"}\n",
    "print( d['a'])"
   ]
  },
  {
   "cell_type": "markdown",
   "id": "f59dbd03",
   "metadata": {},
   "source": [
    "## Conversion between Datatypes"
   ]
  },
  {
   "cell_type": "markdown",
   "id": "62b83827",
   "metadata": {},
   "source": [
    "We can convert between different data types by using different type conversion functions like int(), float(), str() etc."
   ]
  },
  {
   "cell_type": "code",
   "execution_count": null,
   "id": "2d2d9855",
   "metadata": {},
   "outputs": [],
   "source": [
    "float(5)     #convert interger to float using float() method"
   ]
  },
  {
   "cell_type": "code",
   "execution_count": null,
   "id": "1d1be273",
   "metadata": {},
   "outputs": [],
   "source": [
    "int(100.5)   #convert float to integer using int() method"
   ]
  },
  {
   "cell_type": "code",
   "execution_count": 38,
   "id": "fff29e85",
   "metadata": {},
   "outputs": [
    {
     "data": {
      "text/plain": [
       "'20'"
      ]
     },
     "execution_count": 38,
     "metadata": {},
     "output_type": "execute_result"
    }
   ],
   "source": [
    "str(20)      #convert integer to string"
   ]
  },
  {
   "cell_type": "markdown",
   "id": "4cbb6dc0",
   "metadata": {},
   "source": [
    "Conversion to and from string must contain compatible values."
   ]
  },
  {
   "cell_type": "code",
   "execution_count": 39,
   "id": "dfcdfd87",
   "metadata": {},
   "outputs": [
    {
     "ename": "ValueError",
     "evalue": "invalid literal for int() with base 10: '10p'",
     "output_type": "error",
     "traceback": [
      "\u001b[1;31m---------------------------------------------------------------------------\u001b[0m",
      "\u001b[1;31mValueError\u001b[0m                                Traceback (most recent call last)",
      "Input \u001b[1;32mIn [39]\u001b[0m, in \u001b[0;36m<cell line: 1>\u001b[1;34m()\u001b[0m\n\u001b[1;32m----> 1\u001b[0m \u001b[38;5;28;43mint\u001b[39;49m\u001b[43m(\u001b[49m\u001b[38;5;124;43m'\u001b[39;49m\u001b[38;5;124;43m10p\u001b[39;49m\u001b[38;5;124;43m'\u001b[39;49m\u001b[43m)\u001b[49m\n",
      "\u001b[1;31mValueError\u001b[0m: invalid literal for int() with base 10: '10p'"
     ]
    }
   ],
   "source": [
    "int('10p')"
   ]
  },
  {
   "cell_type": "code",
   "execution_count": 40,
   "id": "e876140d",
   "metadata": {},
   "outputs": [
    {
     "name": "stdout",
     "output_type": "stream",
     "text": [
      "Congratulations, rajan! You just wrote 100 lines of code\n"
     ]
    }
   ],
   "source": [
    "user = \"rajan\"\n",
    "lines = 100\n",
    "\n",
    "print(\"Congratulations, \" + user + \"! You just wrote \" + str(lines) + \" lines of code\" )\n",
    "#remove str and gives error"
   ]
  },
  {
   "cell_type": "code",
   "execution_count": 41,
   "id": "cd9a681b",
   "metadata": {},
   "outputs": [
    {
     "name": "stdout",
     "output_type": "stream",
     "text": [
      "<class 'list'>\n",
      "<class 'set'>\n"
     ]
    }
   ],
   "source": [
    "a = [1, 2, 3]\n",
    "\n",
    "print(type(a))      #type of a is list \n",
    "\n",
    "s = set(a)          #convert list to set using set() method\n",
    "\n",
    "print(type(s))      #now type of s is set"
   ]
  },
  {
   "cell_type": "code",
   "execution_count": 42,
   "id": "e4068260",
   "metadata": {},
   "outputs": [
    {
     "data": {
      "text/plain": [
       "['H', 'e', 'l', 'l', 'o']"
      ]
     },
     "execution_count": 42,
     "metadata": {},
     "output_type": "execute_result"
    }
   ],
   "source": [
    "list(\"Hello\")       #convert String to list using list() method"
   ]
  },
  {
   "cell_type": "markdown",
   "id": "1deea3f9",
   "metadata": {},
   "source": [
    "## Python Input and Output"
   ]
  },
  {
   "cell_type": "markdown",
   "id": "72a89a6c",
   "metadata": {},
   "source": [
    "## Python Output"
   ]
  },
  {
   "cell_type": "markdown",
   "id": "26698f82",
   "metadata": {},
   "source": [
    "We use the print() function to output data to the standard output device"
   ]
  },
  {
   "cell_type": "code",
   "execution_count": 43,
   "id": "57772769",
   "metadata": {},
   "outputs": [
    {
     "name": "stdout",
     "output_type": "stream",
     "text": [
      "Hello World\n"
     ]
    }
   ],
   "source": [
    "print(\"Hello World\")"
   ]
  },
  {
   "cell_type": "code",
   "execution_count": 44,
   "id": "7a5e0589",
   "metadata": {},
   "outputs": [
    {
     "name": "stdout",
     "output_type": "stream",
     "text": [
      "The value of a is 10\n",
      "The value of a is 10\n"
     ]
    }
   ],
   "source": [
    "a = 10\n",
    "print(\"The value of a is\", a) #python 3\n",
    "print (\"The value of a is \" + str(a))"
   ]
  },
  {
   "cell_type": "markdown",
   "id": "2e0f9231",
   "metadata": {},
   "source": [
    "## Output Formatting"
   ]
  },
  {
   "cell_type": "code",
   "execution_count": 45,
   "id": "5b8a9f3a",
   "metadata": {},
   "outputs": [
    {
     "name": "stdout",
     "output_type": "stream",
     "text": [
      "The value of a is 10 and b is 20\n"
     ]
    }
   ],
   "source": [
    "a = 10; b = 20 #multiple statements in single line.\n",
    "\n",
    "print(\"The value of a is {} and b is {}\".format(a, b))    #default"
   ]
  },
  {
   "cell_type": "code",
   "execution_count": 46,
   "id": "6e437adc",
   "metadata": {},
   "outputs": [
    {
     "name": "stdout",
     "output_type": "stream",
     "text": [
      "The value of b is 20 and a is 10\n"
     ]
    }
   ],
   "source": [
    "a = 10; b = 20  #multiple statements in single line\n",
    "\n",
    "print(\"The value of b is {1} and a is {0}\".format(a, b)) #specify position of arguments"
   ]
  },
  {
   "cell_type": "code",
   "execution_count": 47,
   "id": "f2d0ab93",
   "metadata": {},
   "outputs": [
    {
     "name": "stdout",
     "output_type": "stream",
     "text": [
      "Hello rajan, Good Morning\n"
     ]
    }
   ],
   "source": [
    "#we can use keyword arguments to format the string\n",
    "print(\"Hello {name}, {greeting}\".format(name=\"rajan\", greeting=\"Good Morning\"))"
   ]
  },
  {
   "cell_type": "code",
   "execution_count": 48,
   "id": "4fed8efd",
   "metadata": {},
   "outputs": [
    {
     "name": "stdout",
     "output_type": "stream",
     "text": [
      "The story of Bill, Manfred, and Georg\n"
     ]
    }
   ],
   "source": [
    "#we can combine positional arguments with keyword arguments\n",
    "print('The story of {0}, {1}, and {other}'.format('Bill', 'Manfred',\n",
    "                                                       other='Georg'))"
   ]
  },
  {
   "cell_type": "markdown",
   "id": "7885a9c4",
   "metadata": {},
   "source": [
    "## Python Input"
   ]
  },
  {
   "cell_type": "markdown",
   "id": "b09c974c",
   "metadata": {},
   "source": [
    "want to take the input from the user. In Python, we have the input() function to allow this. "
   ]
  },
  {
   "cell_type": "code",
   "execution_count": 49,
   "id": "22a1bf3d",
   "metadata": {},
   "outputs": [
    {
     "name": "stdout",
     "output_type": "stream",
     "text": [
      "Enter a number: 33\n",
      "33\n"
     ]
    }
   ],
   "source": [
    "num = input(\"Enter a number: \")\n",
    "print (num)"
   ]
  },
  {
   "cell_type": "markdown",
   "id": "e689cf01",
   "metadata": {},
   "source": [
    "## Operators"
   ]
  },
  {
   "cell_type": "markdown",
   "id": "4a35fe6d",
   "metadata": {},
   "source": [
    "Operators are special symbols in Python that carry out arithmetic or logical computation. The value that the operator operates on is called the operand."
   ]
  },
  {
   "cell_type": "markdown",
   "id": "0ea69f64",
   "metadata": {},
   "source": [
    "## Operator Types"
   ]
  },
  {
   "cell_type": "markdown",
   "id": "a0ebf201",
   "metadata": {},
   "source": [
    "1. Arithmetic operators\n",
    "    \n",
    "2. Comparison (Relational) operators\n",
    "\n",
    "3. Logical (Boolean) operators\n",
    "\n",
    "4. Bitwise operators\n",
    "\n",
    "5. Assignment operators\n",
    "\n",
    "6. Special operators"
   ]
  },
  {
   "cell_type": "markdown",
   "id": "55b42429",
   "metadata": {},
   "source": [
    "## Arithmetic Operators"
   ]
  },
  {
   "cell_type": "markdown",
   "id": "69c8a846",
   "metadata": {},
   "source": [
    "Arithmetic operators are used to perform mathematical operations like addition, subtraction, multiplication etc."
   ]
  },
  {
   "cell_type": "markdown",
   "id": "eee42fd9",
   "metadata": {},
   "source": [
    "`:    + , -, *, /, %, //, **`  are arithmetic operators\n",
    "\n",
    "Example:"
   ]
  },
  {
   "cell_type": "code",
   "execution_count": 61,
   "id": "dc0e7c2c",
   "metadata": {},
   "outputs": [
    {
     "name": "stdout",
     "output_type": "stream",
     "text": [
      "30\n"
     ]
    }
   ],
   "source": [
    "x, y = 10, 20\n",
    "\n",
    "#addition\n",
    "print(x + y)\n",
    "\n",
    "#subtraction(-)\n",
    "\n",
    "#multiplication(*)\n",
    "\n",
    "#division(/)\n",
    "\n",
    "#modulo division (%)\n",
    "\n",
    "#Floor Division (//)\n",
    "\n",
    "#Exponent (**)"
   ]
  },
  {
   "cell_type": "markdown",
   "id": "59681b92",
   "metadata": {},
   "source": [
    "## Comparision Operators"
   ]
  },
  {
   "cell_type": "markdown",
   "id": "5c63af74",
   "metadata": {},
   "source": [
    "Comparison operators are used to compare values. It either returns True or False according to the condition."
   ]
  },
  {
   "cell_type": "markdown",
   "id": "a38e3b17",
   "metadata": {},
   "source": [
    "`    >, <, ==, !=, >=, <=` are comparision operators"
   ]
  },
  {
   "cell_type": "code",
   "execution_count": 62,
   "id": "78ce880a",
   "metadata": {},
   "outputs": [
    {
     "name": "stdout",
     "output_type": "stream",
     "text": [
      "True\n"
     ]
    }
   ],
   "source": [
    "a, b = 10, 20         \n",
    "\n",
    "print(a < b)  #check a is less than b\n",
    "\n",
    "#check a is greater than b\n",
    "\n",
    "#check a is equal to b\n",
    "\n",
    "#check a is not equal to b (!=)\n",
    "\n",
    "#check a greater than or equal to b\n",
    "\n",
    "#check a less than or equal to b\n"
   ]
  },
  {
   "cell_type": "markdown",
   "id": "b2621b84",
   "metadata": {},
   "source": [
    "## Logical Operators"
   ]
  },
  {
   "cell_type": "markdown",
   "id": "c17b8722",
   "metadata": {},
   "source": [
    "Logical operators are  **and, or, not** operators."
   ]
  },
  {
   "cell_type": "code",
   "execution_count": 63,
   "id": "fbe89e76",
   "metadata": {},
   "outputs": [
    {
     "name": "stdout",
     "output_type": "stream",
     "text": [
      "False\n"
     ]
    }
   ],
   "source": [
    "a, b = True, False\n",
    "\n",
    "#print a and b\n",
    "print(a and b)\n",
    "\n",
    "#print a or b\n",
    "\n",
    "#print not b\n"
   ]
  },
  {
   "cell_type": "markdown",
   "id": "b7d9c961",
   "metadata": {},
   "source": [
    "## Bitwise operators"
   ]
  },
  {
   "cell_type": "markdown",
   "id": "028f405f",
   "metadata": {},
   "source": [
    "Bitwise operators act on operands as if they were string of binary digits. It operates bit by bit"
   ]
  },
  {
   "cell_type": "markdown",
   "id": "fb6a3614",
   "metadata": {},
   "source": [
    "`    &,  |,  ~,  ^,  >>,  <<` are Bitwise operators"
   ]
  },
  {
   "cell_type": "code",
   "execution_count": 64,
   "id": "3e357d74",
   "metadata": {},
   "outputs": [
    {
     "name": "stdout",
     "output_type": "stream",
     "text": [
      "0\n"
     ]
    }
   ],
   "source": [
    "a, b = 10, 4\n",
    "\n",
    "#Bitwise AND\n",
    "print(a & b)\n",
    "\n",
    "#Bitwise OR\n",
    "\n",
    "\n",
    "#Bitwise NOT\n",
    "\n",
    "\n",
    "#Bitwise XOR\n",
    "\n",
    "\n",
    "#Bitwise rightshift\n",
    "\n",
    "\n",
    "#Bitwise Leftshift\n"
   ]
  },
  {
   "cell_type": "markdown",
   "id": "2ffaaca1",
   "metadata": {},
   "source": [
    "## Assignment operators"
   ]
  },
  {
   "cell_type": "markdown",
   "id": "17b21c4a",
   "metadata": {},
   "source": [
    "Assignment operators are used in Python to assign values to variables.\n",
    "\n",
    "a = 5 is a simple assignment operator that assigns the value 5 on the right to the variable a on the left."
   ]
  },
  {
   "cell_type": "markdown",
   "id": "355225e6",
   "metadata": {},
   "source": [
    "`    =,  +=,  -=,  *=,  /=,  %=,  //=,  **=, &=,  |=,  ^=,  >>=,  <<= ` are Assignment operators"
   ]
  },
  {
   "cell_type": "code",
   "execution_count": 65,
   "id": "0ae368a0",
   "metadata": {},
   "outputs": [
    {
     "name": "stdout",
     "output_type": "stream",
     "text": [
      "20\n"
     ]
    }
   ],
   "source": [
    "a = 10\n",
    "\n",
    "a += 10         #add AND\n",
    "print(a)\n",
    "\n",
    "#subtract AND (-=)\n",
    "\n",
    "#Multiply AND (*=)\n",
    "\n",
    "#Divide AND (/=)\n",
    "\n",
    "#Modulus AND (%=)\n",
    "\n",
    "#Floor Division (//=)\n",
    "\n",
    "#Exponent AND (**=)\n"
   ]
  },
  {
   "cell_type": "markdown",
   "id": "b6d65d23",
   "metadata": {},
   "source": [
    "## Special Operators"
   ]
  },
  {
   "cell_type": "markdown",
   "id": "5ec8978e",
   "metadata": {},
   "source": [
    "## Identity Operators\n",
    "\n",
    "**is** and **is not** are the identity operators in Python. \n",
    "\n",
    "They are used to check if two values (or variables) are located on the same part of the memory."
   ]
  },
  {
   "cell_type": "code",
   "execution_count": 66,
   "id": "9aee1d9a",
   "metadata": {},
   "outputs": [
    {
     "name": "stdout",
     "output_type": "stream",
     "text": [
      "True\n"
     ]
    }
   ],
   "source": [
    "a = 5\n",
    "b = 5\n",
    "print(a is b)    #5 is object created once both a and b points to same object\n",
    "\n",
    "#check is not"
   ]
  },
  {
   "cell_type": "code",
   "execution_count": 67,
   "id": "1e65e5ee",
   "metadata": {},
   "outputs": [
    {
     "name": "stdout",
     "output_type": "stream",
     "text": [
      "False\n"
     ]
    }
   ],
   "source": [
    "l1 = [1, 2, 3]\n",
    "l2 = [1, 2, 3]\n",
    "print(l1 is l2)"
   ]
  },
  {
   "cell_type": "code",
   "execution_count": 68,
   "id": "cacff2be",
   "metadata": {},
   "outputs": [
    {
     "name": "stdout",
     "output_type": "stream",
     "text": [
      "False\n"
     ]
    }
   ],
   "source": [
    "s1 = \"Rajan\"\n",
    "s2 = \"Rajan\"\n",
    "print(s1 is not s2)"
   ]
  },
  {
   "cell_type": "markdown",
   "id": "8f14687a",
   "metadata": {},
   "source": [
    "## MemberShip Operators"
   ]
  },
  {
   "cell_type": "markdown",
   "id": "163b7f0d",
   "metadata": {},
   "source": [
    "**in** and **not in** are the membership operators in Python. \n",
    "    \n",
    "They are used to test whether a value or variable is found in a sequence (string, list, tuple, set and   dictionary)."
   ]
  },
  {
   "cell_type": "code",
   "execution_count": 69,
   "id": "6817e7b2",
   "metadata": {},
   "outputs": [
    {
     "name": "stdout",
     "output_type": "stream",
     "text": [
      "True\n"
     ]
    }
   ],
   "source": [
    "lst = [1, 2, 3, 4]\n",
    "print(1 in lst)       #check 1 is present in a given list or not\n",
    "\n",
    "#check 5 is present in a given list\n"
   ]
  },
  {
   "cell_type": "code",
   "execution_count": 70,
   "id": "73254045",
   "metadata": {},
   "outputs": [
    {
     "name": "stdout",
     "output_type": "stream",
     "text": [
      "True\n"
     ]
    }
   ],
   "source": [
    "d = {1: \"a\", 2: \"b\"}\n",
    "print(1 in d)"
   ]
  },
  {
   "cell_type": "markdown",
   "id": "c055448e",
   "metadata": {},
   "source": [
    "## Python if ... else Statement"
   ]
  },
  {
   "cell_type": "markdown",
   "id": "e0a45e7e",
   "metadata": {},
   "source": [
    "The **if…elif…else** statement is used in Python for decision making."
   ]
  },
  {
   "cell_type": "markdown",
   "id": "25ac14c8",
   "metadata": {},
   "source": [
    "## if statement syntax"
   ]
  },
  {
   "cell_type": "markdown",
   "id": "64a662c5",
   "metadata": {},
   "source": [
    "    if test expression:\n",
    "\n",
    "           statement(s)\n",
    "        `"
   ]
  },
  {
   "cell_type": "markdown",
   "id": "7c5ceeaf",
   "metadata": {},
   "source": [
    "The program evaluates the test expression and will execute statement(s) only if the text expression is True.\n",
    "\n",
    "If the text expression is False, the statement(s) is not executed."
   ]
  },
  {
   "cell_type": "markdown",
   "id": "dd362731",
   "metadata": {},
   "source": [
    "Python interprets non-zero values as True. None and 0 are interpreted as False."
   ]
  },
  {
   "cell_type": "markdown",
   "id": "bf353491",
   "metadata": {},
   "source": [
    "### Flow Chart"
   ]
  },
  {
   "cell_type": "markdown",
   "id": "03dea9d2",
   "metadata": {},
   "source": [
    "<img src='https://kalkicode.com/images/python/python-if-statement.png'/>"
   ]
  },
  {
   "cell_type": "markdown",
   "id": "fe9d0c82",
   "metadata": {},
   "source": [
    "## Example"
   ]
  },
  {
   "cell_type": "code",
   "execution_count": 71,
   "id": "b4a2436d",
   "metadata": {},
   "outputs": [
    {
     "name": "stdout",
     "output_type": "stream",
     "text": [
      "This will print always\n"
     ]
    }
   ],
   "source": [
    "num = 10\n",
    "\n",
    "# try 0, -1 and None\n",
    "if None:\n",
    "    print(\"Number is positive\")\n",
    "print(\"This will print always\")      #This print statement always print\n",
    "\n",
    "#change number \n"
   ]
  },
  {
   "cell_type": "markdown",
   "id": "0fba15f3",
   "metadata": {},
   "source": [
    "## if ... else Statement"
   ]
  },
  {
   "cell_type": "markdown",
   "id": "27591219",
   "metadata": {},
   "source": [
    "## Syntax:"
   ]
  },
  {
   "cell_type": "markdown",
   "id": "fddbb5a2",
   "metadata": {},
   "source": [
    "    if test expression:\n",
    "    \n",
    "        Body of if\n",
    "\n",
    "    else: \n",
    "    \n",
    "        Body of else"
   ]
  },
  {
   "cell_type": "markdown",
   "id": "f5dcb062",
   "metadata": {},
   "source": [
    "## Flow Chart\n"
   ]
  },
  {
   "cell_type": "markdown",
   "id": "00c20456",
   "metadata": {},
   "source": [
    "<img src='https://www.tutorialspoint.com/python/images/if_else_statement.jpg'/>"
   ]
  },
  {
   "cell_type": "markdown",
   "id": "2b82e2ca",
   "metadata": {},
   "source": [
    "## Example"
   ]
  },
  {
   "cell_type": "code",
   "execution_count": 72,
   "id": "bb09578f",
   "metadata": {},
   "outputs": [
    {
     "name": "stdout",
     "output_type": "stream",
     "text": [
      "Positive number\n"
     ]
    }
   ],
   "source": [
    "num = 10\n",
    "if num > 0:\n",
    "    print(\"Positive number\")\n",
    "else:\n",
    "    print(\"Negative Number\")"
   ]
  },
  {
   "cell_type": "markdown",
   "id": "233c3062",
   "metadata": {},
   "source": [
    "## if...elif...else Statement"
   ]
  },
  {
   "cell_type": "markdown",
   "id": "2ffd2184",
   "metadata": {},
   "source": [
    "## Syntax:"
   ]
  },
  {
   "cell_type": "markdown",
   "id": "9d3ebbf2",
   "metadata": {},
   "source": [
    "    if test expression:\n",
    "\n",
    "        Body of if\n",
    "    elif test expression:\n",
    "    \n",
    "        Body of elif\n",
    "    else: \n",
    "    \n",
    "        Body of else"
   ]
  },
  {
   "cell_type": "markdown",
   "id": "177c0bdb",
   "metadata": {},
   "source": [
    "## Flow Chart\n",
    "<img src ='https://www.golinuxcloud.com/wp-content/uploads/2020/06/python_if_elif_else_statement.jpg'/>"
   ]
  },
  {
   "cell_type": "markdown",
   "id": "5abf88fb",
   "metadata": {},
   "source": [
    "## Example:"
   ]
  },
  {
   "cell_type": "code",
   "execution_count": 73,
   "id": "07f434ce",
   "metadata": {},
   "outputs": [
    {
     "name": "stdout",
     "output_type": "stream",
     "text": [
      "ZERO\n"
     ]
    }
   ],
   "source": [
    "num = 0\n",
    "\n",
    "if num > 0:\n",
    "    print(\"Positive number\")\n",
    "elif num == 0:\n",
    "    print(\"ZERO\")\n",
    "else:\n",
    "    print(\"Negative Number\")"
   ]
  },
  {
   "cell_type": "markdown",
   "id": "c47afe18",
   "metadata": {},
   "source": [
    "## Nested if Statements"
   ]
  },
  {
   "cell_type": "markdown",
   "id": "33a3b30d",
   "metadata": {},
   "source": [
    "We can have a if...elif...else statement inside another if...elif...else statement. This is called nesting in computer programming."
   ]
  },
  {
   "cell_type": "markdown",
   "id": "d44f5ee9",
   "metadata": {},
   "source": [
    "## Example:"
   ]
  },
  {
   "cell_type": "code",
   "execution_count": 74,
   "id": "bd594ad3",
   "metadata": {},
   "outputs": [
    {
     "name": "stdout",
     "output_type": "stream",
     "text": [
      "Positive number\n"
     ]
    }
   ],
   "source": [
    "num = 10.5\n",
    "\n",
    "if num >= 0:\n",
    "    if num == 0:\n",
    "        print(\"Zero\")\n",
    "    else:\n",
    "        print(\"Positive number\")\n",
    "else:\n",
    "    print(\"Negative Number\")"
   ]
  },
  {
   "cell_type": "markdown",
   "id": "8848029b",
   "metadata": {},
   "source": [
    "## Python program to find the largest element among three Numbers"
   ]
  },
  {
   "cell_type": "code",
   "execution_count": 75,
   "id": "e60a255f",
   "metadata": {},
   "outputs": [
    {
     "name": "stdout",
     "output_type": "stream",
     "text": [
      "Largest element among three numbers is: 50\n"
     ]
    }
   ],
   "source": [
    "num1 = 10\n",
    "num2 = 50\n",
    "num3 = 15\n",
    "\n",
    "if (num1 >= num2) and (num1 >= num3):           #logical operator   and\n",
    "    largest = num1\n",
    "elif (num2 >= num1) and (num2 >= num3):\n",
    "    largest = num2\n",
    "else:\n",
    "    largest = num3\n",
    "print(\"Largest element among three numbers is: {}\".format(largest))"
   ]
  },
  {
   "cell_type": "markdown",
   "id": "161f18f5",
   "metadata": {},
   "source": [
    "## Python while Loop"
   ]
  },
  {
   "cell_type": "markdown",
   "id": "b771ccdd",
   "metadata": {},
   "source": [
    "The while loop in Python is used to iterate over a block of code as long as the test expression (condition) is true.\n",
    "\n"
   ]
  },
  {
   "cell_type": "markdown",
   "id": "4f8ab84c",
   "metadata": {},
   "source": [
    "## Syntax:"
   ]
  },
  {
   "cell_type": "markdown",
   "id": "9722c565",
   "metadata": {},
   "source": [
    "    while test_expression:\n",
    "        \n",
    "        Body of while"
   ]
  },
  {
   "cell_type": "markdown",
   "id": "004679f4",
   "metadata": {},
   "source": [
    "The body of the loop is entered only if the test_expression evaluates to True. \n",
    "\n",
    "After one iteration, the test expression is checked again. \n",
    "\n",
    "This process continues until the test_expression evaluates to False."
   ]
  },
  {
   "cell_type": "markdown",
   "id": "3ac71358",
   "metadata": {},
   "source": [
    "## Flow Chart\n",
    "<img src ='https://uploads-ssl.webflow.com/6184b461a39ff1011f8c0582/623c0c66fad507a80764a3f5_while-loop-flowchart.png' hieght = 400 width = 400 />"
   ]
  },
  {
   "cell_type": "markdown",
   "id": "adae106c",
   "metadata": {},
   "source": [
    "## Example"
   ]
  },
  {
   "cell_type": "code",
   "execution_count": 76,
   "id": "0b39939a",
   "metadata": {},
   "outputs": [
    {
     "name": "stdout",
     "output_type": "stream",
     "text": [
      "Product is: 14400000\n"
     ]
    }
   ],
   "source": [
    "#Find product of all numbers present in a list\n",
    "\n",
    "lst = [10, 20, 30, 40, 60]\n",
    "\n",
    "product = 1\n",
    "index = 0\n",
    "\n",
    "while index < len(lst):\n",
    "    product *= lst[index]\n",
    "    index += 1\n",
    "\n",
    "print(\"Product is: {}\".format(product))\n"
   ]
  },
  {
   "cell_type": "markdown",
   "id": "a2024fcb",
   "metadata": {},
   "source": [
    "## while Loop with else\n"
   ]
  },
  {
   "cell_type": "markdown",
   "id": "cfb56f4f",
   "metadata": {},
   "source": [
    "Same as that of for loop, we can have an optional else block with while loop as well.\n",
    "\n",
    "The else part is executed if the condition in the while loop evaluates to False. The while loop can be terminated with a break statement.\n",
    "\n",
    "In such case, the else part is ignored. Hence, a while loop's else part runs if no break occurs and the condition is false.\n",
    "\n"
   ]
  },
  {
   "cell_type": "code",
   "execution_count": 77,
   "id": "0f534037",
   "metadata": {},
   "outputs": [
    {
     "name": "stdout",
     "output_type": "stream",
     "text": [
      "1\n",
      "2\n",
      "3\n",
      "4\n",
      "5\n",
      "no item left in the list\n"
     ]
    }
   ],
   "source": [
    "numbers = [1, 2, 3,4,5]\n",
    "\n",
    "#iterating over the list\n",
    "index = 0\n",
    "while index < len(numbers):\n",
    "    print(numbers[index])\n",
    "    index += 1\n",
    "    \n",
    "else:\n",
    "    print(\"no item left in the list\")"
   ]
  },
  {
   "cell_type": "markdown",
   "id": "9d9d8251",
   "metadata": {},
   "source": [
    "## Python Program to check given number is Prime number or not"
   ]
  },
  {
   "cell_type": "code",
   "execution_count": 79,
   "id": "c97f2ee9",
   "metadata": {},
   "outputs": [
    {
     "name": "stdout",
     "output_type": "stream",
     "text": [
      "Enter a number: 66\n",
      "66 is divisible by 2\n",
      "66 is divisible by 3\n",
      "66 is divisible by 6\n",
      "66 is divisible by 11\n",
      "66 is divisible by 22\n",
      "66 is divisible by 33\n",
      "66 is NOT a Prime number\n"
     ]
    }
   ],
   "source": [
    "num = int(input(\"Enter a number: \"))        #convert string to int\n",
    "\n",
    "\n",
    "isDivisible = False;\n",
    "\n",
    "i=2;\n",
    "while i < num:\n",
    "    if num % i == 0:\n",
    "        isDivisible = True;\n",
    "        print (\"{} is divisible by {}\".format(num,i) )\n",
    "    i += 1;\n",
    "    \n",
    "if isDivisible:\n",
    "    print(\"{} is NOT a Prime number\".format(num))\n",
    "else:\n",
    "    print(\"{} is a Prime number\".format(num))\n"
   ]
  },
  {
   "cell_type": "markdown",
   "id": "b011f812",
   "metadata": {},
   "source": [
    "## Python for Loop"
   ]
  },
  {
   "cell_type": "markdown",
   "id": "e964e3da",
   "metadata": {},
   "source": [
    "The for loop in Python is used to iterate over a sequence (list, tuple, string) or other iterable objects. \n",
    "    \n",
    "Iterating over a sequence is called traversal."
   ]
  },
  {
   "cell_type": "markdown",
   "id": "e83b44a3",
   "metadata": {},
   "source": [
    "## Syntax:"
   ]
  },
  {
   "cell_type": "markdown",
   "id": "19f2c79b",
   "metadata": {},
   "source": [
    "    for element in sequence :\n",
    "\n",
    "        Body of for"
   ]
  },
  {
   "cell_type": "markdown",
   "id": "d90ad467",
   "metadata": {},
   "source": [
    "Here, element is the variable that takes the value of the item inside the sequence on each iteration.\n",
    "\n",
    "Loop continues until we reach the last item in the sequence. "
   ]
  },
  {
   "cell_type": "markdown",
   "id": "4e367430",
   "metadata": {},
   "source": [
    "## Flow Chart\n",
    "\n",
    "<img src = 'https://ecomputernotes.com/images/flowchart-of-for-loops-in-Python.jpg'/>"
   ]
  },
  {
   "cell_type": "markdown",
   "id": "31b0d8b9",
   "metadata": {},
   "source": [
    "## Example"
   ]
  },
  {
   "cell_type": "code",
   "execution_count": 80,
   "id": "50a7bd17",
   "metadata": {},
   "outputs": [
    {
     "name": "stdout",
     "output_type": "stream",
     "text": [
      "<class 'int'>\n",
      "<class 'int'>\n",
      "<class 'int'>\n",
      "<class 'int'>\n",
      "<class 'int'>\n",
      "Product is: 12000000\n"
     ]
    }
   ],
   "source": [
    "#Find product of all numbers present in a list\n",
    "\n",
    "lst = [10, 20, 30, 40, 50]\n",
    "\n",
    "product = 1\n",
    "#iterating over the list\n",
    "for ele in lst:\n",
    "    print(type(ele))\n",
    "    product *= ele\n",
    "\n",
    "print(\"Product is: {}\".format(product))"
   ]
  },
  {
   "cell_type": "code",
   "execution_count": 81,
   "id": "76dc54e9",
   "metadata": {},
   "outputs": [
    {
     "data": {
      "text/plain": [
       "50"
      ]
     },
     "execution_count": 81,
     "metadata": {},
     "output_type": "execute_result"
    }
   ],
   "source": [
    "ele"
   ]
  },
  {
   "cell_type": "markdown",
   "id": "acfdbeb7",
   "metadata": {},
   "source": [
    "## range() function"
   ]
  },
  {
   "cell_type": "markdown",
   "id": "cfdd944c",
   "metadata": {},
   "source": [
    "We can generate a sequence of numbers using range() function. range(10) will generate numbers from 0 to 9 (10 numbers).\n",
    "\n",
    "We can also define the start, stop and step size as range(start,stop,step size). step size defaults to 1 if not provided.\n",
    "\n",
    "This function does not store all the values in memory, it would be inefficient. So it remembers the start, stop, step size and generates the next number on the go."
   ]
  },
  {
   "cell_type": "code",
   "execution_count": 82,
   "id": "5540d61d",
   "metadata": {},
   "outputs": [
    {
     "name": "stdout",
     "output_type": "stream",
     "text": [
      "0\n",
      "1\n",
      "2\n",
      "3\n",
      "4\n",
      "5\n",
      "6\n",
      "7\n",
      "8\n",
      "9\n"
     ]
    }
   ],
   "source": [
    "#print range of 10\n",
    "for i in range(10):\n",
    "    print(i)"
   ]
  },
  {
   "cell_type": "code",
   "execution_count": 83,
   "id": "bd7ac4df",
   "metadata": {},
   "outputs": [
    {
     "name": "stdout",
     "output_type": "stream",
     "text": [
      "0\n",
      "5\n",
      "10\n",
      "15\n"
     ]
    }
   ],
   "source": [
    "#print range of numbers from 1 to 20 with step size of 2\n",
    "for i in range(0, 20, 5):\n",
    "    print(i)"
   ]
  },
  {
   "cell_type": "code",
   "execution_count": 84,
   "id": "ac936e6f",
   "metadata": {},
   "outputs": [
    {
     "name": "stdout",
     "output_type": "stream",
     "text": [
      "satish\n",
      "srinu\n",
      "murali\n",
      "naveen\n",
      "bramha\n"
     ]
    }
   ],
   "source": [
    "lst = [\"satish\", \"srinu\", \"murali\", \"naveen\", \"bramha\"]\n",
    "\n",
    "#iterate over the list using index\n",
    "#for index in range(len(lst)):\n",
    "#    print(lst[index])\n",
    "for ele in lst:\n",
    "    print(ele)"
   ]
  },
  {
   "cell_type": "markdown",
   "id": "ad755b56",
   "metadata": {},
   "source": [
    "## for loop with else"
   ]
  },
  {
   "cell_type": "markdown",
   "id": "99695632",
   "metadata": {},
   "source": [
    "A for loop can have an optional else block as well. The else part is executed if the items in the sequence used in for loop exhausts.\n",
    "\n",
    "break statement can be used to stop a for loop. In such case, the else part is ignored.\n",
    "\n",
    "Hence, a for loop's else part runs if no break occurs."
   ]
  },
  {
   "cell_type": "code",
   "execution_count": 85,
   "id": "7767e402",
   "metadata": {},
   "outputs": [
    {
     "name": "stdout",
     "output_type": "stream",
     "text": [
      "1\n",
      "2\n",
      "3\n",
      "no item left in the list\n"
     ]
    }
   ],
   "source": [
    "numbers = [1, 2, 3]\n",
    "\n",
    "#iterating over the list\n",
    "for item in numbers:\n",
    "    print(item)\n",
    "else:\n",
    "    print(\"no item left in the list\")"
   ]
  },
  {
   "cell_type": "code",
   "execution_count": 86,
   "id": "fafc4825",
   "metadata": {},
   "outputs": [
    {
     "name": "stdout",
     "output_type": "stream",
     "text": [
      "1\n",
      "2\n"
     ]
    }
   ],
   "source": [
    "for item in numbers:\n",
    "    print(item)\n",
    "    if item % 2 == 0:\n",
    "        break\n",
    "else:\n",
    "    print(\"no item left in the list\")"
   ]
  },
  {
   "cell_type": "markdown",
   "id": "43d2e901",
   "metadata": {},
   "source": [
    "## Python Program to display all prime numbers within an interval"
   ]
  },
  {
   "cell_type": "code",
   "execution_count": 87,
   "id": "e2182fbe",
   "metadata": {},
   "outputs": [
    {
     "name": "stdout",
     "output_type": "stream",
     "text": [
      "Prime numbers between 20 and 50 are :\n",
      "23\n",
      "29\n",
      "31\n",
      "37\n",
      "41\n",
      "43\n",
      "47\n"
     ]
    }
   ],
   "source": [
    "index1 = 20\n",
    "index2 = 50\n",
    "\n",
    "print(\"Prime numbers between {0} and {1} are :\".format(index1, index2))\n",
    "\n",
    "for num in range(index1, index2+1):      #default step size is 1\n",
    "    if num > 1:\n",
    "        isDivisible = False;\n",
    "        for index in range(2, num):\n",
    "            if num % index == 0:\n",
    "                isDivisible = True;\n",
    "        if not isDivisible:        \n",
    "            print(num);\n",
    "    "
   ]
  },
  {
   "cell_type": "markdown",
   "id": "d3e7f79a",
   "metadata": {},
   "source": [
    "## Python break and continue Statements"
   ]
  },
  {
   "cell_type": "markdown",
   "id": "0cf86e54",
   "metadata": {},
   "source": [
    "In Python, break and continue statements can alter the flow of a normal loop.\n",
    "\n",
    "Loops iterate over a block of code until test expression is false, but sometimes we wish to terminate the current iteration or even the whole loop without cheking test expression.\n",
    "\n",
    "The break and continue statements are used in these cases."
   ]
  },
  {
   "cell_type": "markdown",
   "id": "98dd9863",
   "metadata": {},
   "source": [
    "## Python break Statement"
   ]
  },
  {
   "cell_type": "markdown",
   "id": "5c34127c",
   "metadata": {},
   "source": [
    "Syntax:\n",
    "    \n",
    "    break"
   ]
  },
  {
   "cell_type": "markdown",
   "id": "2ac2b8f2",
   "metadata": {},
   "source": [
    "## Flow Chart\n",
    "\n",
    "<img src = 'https://www.tutsmake.com/wp-content/uploads/2020/02/python-break-statement-flowchart.jpg'/>\n",
    "\n",
    "\n",
    "<img src='https://www.programiz.com/sites/tutorial2program/files/working-break-statement-python.png'/>"
   ]
  },
  {
   "cell_type": "markdown",
   "id": "3126d3e6",
   "metadata": {},
   "source": [
    "## Example"
   ]
  },
  {
   "cell_type": "code",
   "execution_count": 88,
   "id": "89f3dc4b",
   "metadata": {},
   "outputs": [
    {
     "name": "stdout",
     "output_type": "stream",
     "text": [
      "1\n",
      "2\n",
      "3\n",
      "Outside of for loop\n"
     ]
    }
   ],
   "source": [
    "numbers = [1, 2, 3, 4]\n",
    "for num in numbers:          #iterating over list\n",
    "    if num == 4:\n",
    "        break\n",
    "    print(num)\n",
    "else:\n",
    "    print(\"in the else-block\")\n",
    "print(\"Outside of for loop\")"
   ]
  },
  {
   "cell_type": "markdown",
   "id": "315fa573",
   "metadata": {},
   "source": [
    "## Python Program to check given number is Prime number or not (using break)\n"
   ]
  },
  {
   "cell_type": "code",
   "execution_count": 90,
   "id": "137c024e",
   "metadata": {},
   "outputs": [
    {
     "name": "stdout",
     "output_type": "stream",
     "text": [
      "Enter a number: 77\n",
      "77 is divisible by 7\n",
      "77 is NOT a Prime number\n"
     ]
    }
   ],
   "source": [
    "num = int(input(\"Enter a number: \"))        #convert string to int\n",
    "\n",
    "\n",
    "isDivisible = False;\n",
    "\n",
    "i=2;\n",
    "while i < num:\n",
    "    if num % i == 0:\n",
    "        isDivisible = True;\n",
    "        print (\"{} is divisible by {}\".format(num,i) )\n",
    "        break; # this line is the only addition.\n",
    "    i += 1;\n",
    "    \n",
    "if isDivisible:\n",
    "    print(\"{} is NOT a Prime number\".format(num))\n",
    "else:\n",
    "    print(\"{} is a Prime number\".format(num))"
   ]
  },
  {
   "cell_type": "markdown",
   "id": "0ec3e8a0",
   "metadata": {},
   "source": [
    "## Python Continue Statement"
   ]
  },
  {
   "cell_type": "markdown",
   "id": "06523ab3",
   "metadata": {},
   "source": [
    "syntax:\n",
    "    \n",
    "    continue"
   ]
  },
  {
   "cell_type": "markdown",
   "id": "36ee0a5d",
   "metadata": {},
   "source": [
    "## Flow Chart\n",
    "\n",
    "<img src='https://www.tutsmake.com/wp-content/uploads/2020/02/python-continue-statement-flow-chart.jpg'/>\n",
    "\n",
    "<img src='https://www.programiz.com/sites/tutorial2program/files/working-continue-statement-python.png'/>"
   ]
  },
  {
   "cell_type": "markdown",
   "id": "50c255ef",
   "metadata": {},
   "source": [
    "## Example"
   ]
  },
  {
   "cell_type": "code",
   "execution_count": 91,
   "id": "e3b3c37c",
   "metadata": {},
   "outputs": [
    {
     "name": "stdout",
     "output_type": "stream",
     "text": [
      "1\n",
      "3\n",
      "5\n",
      "else-block\n"
     ]
    }
   ],
   "source": [
    "#print odd numbers present in a list\n",
    "numbers = [1, 2, 3, 4, 5]\n",
    "\n",
    "for num in numbers:\n",
    "    if num % 2 == 0:\n",
    "        continue\n",
    "    print(num)\n",
    "else:\n",
    "    print(\"else-block\")"
   ]
  },
  {
   "cell_type": "code",
   "execution_count": null,
   "id": "5b092443",
   "metadata": {},
   "outputs": [],
   "source": []
  }
 ],
 "metadata": {
  "kernelspec": {
   "display_name": "Python 3 (ipykernel)",
   "language": "python",
   "name": "python3"
  },
  "language_info": {
   "codemirror_mode": {
    "name": "ipython",
    "version": 3
   },
   "file_extension": ".py",
   "mimetype": "text/x-python",
   "name": "python",
   "nbconvert_exporter": "python",
   "pygments_lexer": "ipython3",
   "version": "3.9.12"
  }
 },
 "nbformat": 4,
 "nbformat_minor": 5
}
